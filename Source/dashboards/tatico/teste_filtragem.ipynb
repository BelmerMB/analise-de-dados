{
 "cells": [
  {
   "cell_type": "markdown",
   "metadata": {},
   "source": []
  },
  {
   "cell_type": "code",
   "execution_count": 176,
   "metadata": {},
   "outputs": [],
   "source": [
    "import pandas as pd\n",
    "import matplotlib.pyplot as plp"
   ]
  },
  {
   "cell_type": "code",
   "execution_count": 177,
   "metadata": {},
   "outputs": [
    {
     "name": "stdout",
     "output_type": "stream",
     "text": [
      "<class 'pandas.core.frame.DataFrame'>\n",
      "RangeIndex: 2823 entries, 0 to 2822\n",
      "Data columns (total 25 columns):\n",
      " #   Column            Non-Null Count  Dtype  \n",
      "---  ------            --------------  -----  \n",
      " 0   ORDERNUMBER       2823 non-null   int64  \n",
      " 1   QUANTITYORDERED   2823 non-null   int64  \n",
      " 2   PRICEEACH         2823 non-null   float64\n",
      " 3   ORDERLINENUMBER   2823 non-null   int64  \n",
      " 4   SALES             2823 non-null   float64\n",
      " 5   ORDERDATE         2823 non-null   object \n",
      " 6   STATUS            2823 non-null   object \n",
      " 7   QTR_ID            2823 non-null   int64  \n",
      " 8   MONTH_ID          2823 non-null   int64  \n",
      " 9   YEAR_ID           2823 non-null   int64  \n",
      " 10  PRODUCTLINE       2823 non-null   object \n",
      " 11  MSRP              2823 non-null   int64  \n",
      " 12  PRODUCTCODE       2823 non-null   object \n",
      " 13  CUSTOMERNAME      2823 non-null   object \n",
      " 14  PHONE             2823 non-null   object \n",
      " 15  ADDRESSLINE1      2823 non-null   object \n",
      " 16  ADDRESSLINE2      302 non-null    object \n",
      " 17  CITY              2823 non-null   object \n",
      " 18  STATE             1337 non-null   object \n",
      " 19  POSTALCODE        2747 non-null   object \n",
      " 20  COUNTRY           2823 non-null   object \n",
      " 21  TERRITORY         1749 non-null   object \n",
      " 22  CONTACTLASTNAME   2823 non-null   object \n",
      " 23  CONTACTFIRSTNAME  2823 non-null   object \n",
      " 24  DEALSIZE          2823 non-null   object \n",
      "dtypes: float64(2), int64(7), object(16)\n",
      "memory usage: 551.5+ KB\n",
      "None\n"
     ]
    }
   ],
   "source": [
    "df = pd.read_csv('sales_data_sample.csv', sep=',', encoding='Windows-1252')\n",
    "df.tail()\n",
    "print(df.info())"
   ]
  },
  {
   "cell_type": "code",
   "execution_count": 178,
   "metadata": {},
   "outputs": [],
   "source": [
    "df.drop(columns=['ORDERNUMBER','ORDERLINENUMBER', 'ADDRESSLINE1','MSRP', 'ADDRESSLINE2', 'CONTACTLASTNAME', 'CONTACTFIRSTNAME', 'TERRITORY', 'POSTALCODE', 'STATE', 'PHONE'], inplace=True)\n"
   ]
  },
  {
   "cell_type": "code",
   "execution_count": 179,
   "metadata": {},
   "outputs": [
    {
     "data": {
      "text/html": [
       "<div>\n",
       "<style scoped>\n",
       "    .dataframe tbody tr th:only-of-type {\n",
       "        vertical-align: middle;\n",
       "    }\n",
       "\n",
       "    .dataframe tbody tr th {\n",
       "        vertical-align: top;\n",
       "    }\n",
       "\n",
       "    .dataframe thead th {\n",
       "        text-align: right;\n",
       "    }\n",
       "</style>\n",
       "<table border=\"1\" class=\"dataframe\">\n",
       "  <thead>\n",
       "    <tr style=\"text-align: right;\">\n",
       "      <th></th>\n",
       "      <th>QUANTITYORDERED</th>\n",
       "      <th>PRICEEACH</th>\n",
       "      <th>SALES</th>\n",
       "      <th>ORDERDATE</th>\n",
       "      <th>STATUS</th>\n",
       "      <th>QTR_ID</th>\n",
       "      <th>MONTH_ID</th>\n",
       "      <th>YEAR_ID</th>\n",
       "      <th>PRODUCTLINE</th>\n",
       "      <th>PRODUCTCODE</th>\n",
       "      <th>CUSTOMERNAME</th>\n",
       "      <th>CITY</th>\n",
       "      <th>COUNTRY</th>\n",
       "      <th>DEALSIZE</th>\n",
       "    </tr>\n",
       "  </thead>\n",
       "  <tbody>\n",
       "    <tr>\n",
       "      <th>0</th>\n",
       "      <td>30</td>\n",
       "      <td>95.70</td>\n",
       "      <td>2871.00</td>\n",
       "      <td>2/24/2003 0:00</td>\n",
       "      <td>Shipped</td>\n",
       "      <td>1</td>\n",
       "      <td>2</td>\n",
       "      <td>2003</td>\n",
       "      <td>Motorcycles</td>\n",
       "      <td>S10_1678</td>\n",
       "      <td>Land of Toys Inc.</td>\n",
       "      <td>NYC</td>\n",
       "      <td>USA</td>\n",
       "      <td>Small</td>\n",
       "    </tr>\n",
       "    <tr>\n",
       "      <th>1</th>\n",
       "      <td>34</td>\n",
       "      <td>81.35</td>\n",
       "      <td>2765.90</td>\n",
       "      <td>5/7/2003 0:00</td>\n",
       "      <td>Shipped</td>\n",
       "      <td>2</td>\n",
       "      <td>5</td>\n",
       "      <td>2003</td>\n",
       "      <td>Motorcycles</td>\n",
       "      <td>S10_1678</td>\n",
       "      <td>Reims Collectables</td>\n",
       "      <td>Reims</td>\n",
       "      <td>France</td>\n",
       "      <td>Small</td>\n",
       "    </tr>\n",
       "    <tr>\n",
       "      <th>2</th>\n",
       "      <td>41</td>\n",
       "      <td>94.74</td>\n",
       "      <td>3884.34</td>\n",
       "      <td>7/1/2003 0:00</td>\n",
       "      <td>Shipped</td>\n",
       "      <td>3</td>\n",
       "      <td>7</td>\n",
       "      <td>2003</td>\n",
       "      <td>Motorcycles</td>\n",
       "      <td>S10_1678</td>\n",
       "      <td>Lyon Souveniers</td>\n",
       "      <td>Paris</td>\n",
       "      <td>France</td>\n",
       "      <td>Medium</td>\n",
       "    </tr>\n",
       "    <tr>\n",
       "      <th>3</th>\n",
       "      <td>45</td>\n",
       "      <td>83.26</td>\n",
       "      <td>3746.70</td>\n",
       "      <td>8/25/2003 0:00</td>\n",
       "      <td>Shipped</td>\n",
       "      <td>3</td>\n",
       "      <td>8</td>\n",
       "      <td>2003</td>\n",
       "      <td>Motorcycles</td>\n",
       "      <td>S10_1678</td>\n",
       "      <td>Toys4GrownUps.com</td>\n",
       "      <td>Pasadena</td>\n",
       "      <td>USA</td>\n",
       "      <td>Medium</td>\n",
       "    </tr>\n",
       "    <tr>\n",
       "      <th>4</th>\n",
       "      <td>49</td>\n",
       "      <td>100.00</td>\n",
       "      <td>5205.27</td>\n",
       "      <td>10/10/2003 0:00</td>\n",
       "      <td>Shipped</td>\n",
       "      <td>4</td>\n",
       "      <td>10</td>\n",
       "      <td>2003</td>\n",
       "      <td>Motorcycles</td>\n",
       "      <td>S10_1678</td>\n",
       "      <td>Corporate Gift Ideas Co.</td>\n",
       "      <td>San Francisco</td>\n",
       "      <td>USA</td>\n",
       "      <td>Medium</td>\n",
       "    </tr>\n",
       "  </tbody>\n",
       "</table>\n",
       "</div>"
      ],
      "text/plain": [
       "   QUANTITYORDERED  PRICEEACH    SALES        ORDERDATE   STATUS  QTR_ID  \\\n",
       "0               30      95.70  2871.00   2/24/2003 0:00  Shipped       1   \n",
       "1               34      81.35  2765.90    5/7/2003 0:00  Shipped       2   \n",
       "2               41      94.74  3884.34    7/1/2003 0:00  Shipped       3   \n",
       "3               45      83.26  3746.70   8/25/2003 0:00  Shipped       3   \n",
       "4               49     100.00  5205.27  10/10/2003 0:00  Shipped       4   \n",
       "\n",
       "   MONTH_ID  YEAR_ID  PRODUCTLINE PRODUCTCODE              CUSTOMERNAME  \\\n",
       "0         2     2003  Motorcycles    S10_1678         Land of Toys Inc.   \n",
       "1         5     2003  Motorcycles    S10_1678        Reims Collectables   \n",
       "2         7     2003  Motorcycles    S10_1678           Lyon Souveniers   \n",
       "3         8     2003  Motorcycles    S10_1678         Toys4GrownUps.com   \n",
       "4        10     2003  Motorcycles    S10_1678  Corporate Gift Ideas Co.   \n",
       "\n",
       "            CITY COUNTRY DEALSIZE  \n",
       "0            NYC     USA    Small  \n",
       "1          Reims  France    Small  \n",
       "2          Paris  France   Medium  \n",
       "3       Pasadena     USA   Medium  \n",
       "4  San Francisco     USA   Medium  "
      ]
     },
     "execution_count": 179,
     "metadata": {},
     "output_type": "execute_result"
    }
   ],
   "source": [
    "df.head()"
   ]
  },
  {
   "cell_type": "code",
   "execution_count": 180,
   "metadata": {},
   "outputs": [
    {
     "name": "stdout",
     "output_type": "stream",
     "text": [
      "<class 'pandas.core.frame.DataFrame'>\n",
      "RangeIndex: 2823 entries, 0 to 2822\n",
      "Data columns (total 14 columns):\n",
      " #   Column           Non-Null Count  Dtype  \n",
      "---  ------           --------------  -----  \n",
      " 0   QUANTITYORDERED  2823 non-null   int64  \n",
      " 1   PRICEEACH        2823 non-null   float64\n",
      " 2   SALES            2823 non-null   float64\n",
      " 3   ORDERDATE        2823 non-null   object \n",
      " 4   STATUS           2823 non-null   object \n",
      " 5   QTR_ID           2823 non-null   int64  \n",
      " 6   MONTH_ID         2823 non-null   int64  \n",
      " 7   YEAR_ID          2823 non-null   int64  \n",
      " 8   PRODUCTLINE      2823 non-null   object \n",
      " 9   PRODUCTCODE      2823 non-null   object \n",
      " 10  CUSTOMERNAME     2823 non-null   object \n",
      " 11  CITY             2823 non-null   object \n",
      " 12  COUNTRY          2823 non-null   object \n",
      " 13  DEALSIZE         2823 non-null   object \n",
      "dtypes: float64(2), int64(4), object(8)\n",
      "memory usage: 308.9+ KB\n"
     ]
    }
   ],
   "source": [
    "df.info()"
   ]
  },
  {
   "cell_type": "code",
   "execution_count": 181,
   "metadata": {},
   "outputs": [
    {
     "data": {
      "text/plain": [
       "QUANTITYORDERED    0\n",
       "PRICEEACH          0\n",
       "SALES              0\n",
       "ORDERDATE          0\n",
       "STATUS             0\n",
       "QTR_ID             0\n",
       "MONTH_ID           0\n",
       "YEAR_ID            0\n",
       "PRODUCTLINE        0\n",
       "PRODUCTCODE        0\n",
       "CUSTOMERNAME       0\n",
       "CITY               0\n",
       "COUNTRY            0\n",
       "DEALSIZE           0\n",
       "dtype: int64"
      ]
     },
     "execution_count": 181,
     "metadata": {},
     "output_type": "execute_result"
    }
   ],
   "source": [
    "for i in df.duplicated():\n",
    "    if i:\n",
    "        print(\"Duplicado\")\n",
    "df.isnull().sum()"
   ]
  },
  {
   "cell_type": "code",
   "execution_count": 182,
   "metadata": {},
   "outputs": [],
   "source": [
    "df.to_csv('sales_data.csv', sep=',', index=False)"
   ]
  },
  {
   "cell_type": "code",
   "execution_count": 183,
   "metadata": {},
   "outputs": [
    {
     "data": {
      "text/plain": [
       "array(['USA', 'France', 'Norway', 'Australia', 'Finland', 'Austria', 'UK',\n",
       "       'Spain', 'Sweden', 'Singapore', 'Canada', 'Japan', 'Italy',\n",
       "       'Denmark', 'Belgium', 'Philippines', 'Germany', 'Switzerland',\n",
       "       'Ireland'], dtype=object)"
      ]
     },
     "execution_count": 183,
     "metadata": {},
     "output_type": "execute_result"
    }
   ],
   "source": [
    "df['COUNTRY'].unique()"
   ]
  },
  {
   "cell_type": "code",
   "execution_count": 184,
   "metadata": {},
   "outputs": [
    {
     "data": {
      "text/plain": [
       "array([2003, 2004, 2005])"
      ]
     },
     "execution_count": 184,
     "metadata": {},
     "output_type": "execute_result"
    }
   ],
   "source": [
    "df['YEAR_ID'].unique()"
   ]
  },
  {
   "cell_type": "code",
   "execution_count": 185,
   "metadata": {},
   "outputs": [
    {
     "data": {
      "text/plain": [
       "array(['NYC', 'Reims', 'Paris', 'Pasadena', 'San Francisco', 'Burlingame',\n",
       "       'Lille', 'Bergen', 'Melbourne', 'Newark', 'Bridgewater', 'Nantes',\n",
       "       'Cambridge', 'Helsinki', 'Stavern', 'Allentown', 'Salzburg',\n",
       "       'Chatswood', 'New Bedford', 'Liverpool', 'Madrid', 'Lule',\n",
       "       'Singapore', 'South Brisbane', 'Philadelphia', 'Lyon', 'Vancouver',\n",
       "       'Burbank', 'New Haven', 'Minato-ku', 'Torino', 'Boras',\n",
       "       'Versailles', 'San Rafael', 'Nashua', 'Brickhaven', 'North Sydney',\n",
       "       'Montreal', 'Osaka', 'White Plains', 'Kobenhavn', 'London',\n",
       "       'Toulouse', 'Barcelona', 'Los Angeles', 'San Diego', 'Bruxelles',\n",
       "       'Tsawassen', 'Boston', 'Cowes', 'Oulu', 'San Jose', 'Graz',\n",
       "       'Makati City', 'Marseille', 'Koln', 'Gensve', 'Reggio Emilia',\n",
       "       'Frankfurt', 'Espoo', 'Dublin', 'Manchester', 'Aaarhus',\n",
       "       'Glendale', 'Sevilla', 'Brisbane', 'Strasbourg', 'Las Vegas',\n",
       "       'Oslo', 'Bergamo', 'Glen Waverly', 'Munich', 'Charleroi'],\n",
       "      dtype=object)"
      ]
     },
     "execution_count": 185,
     "metadata": {},
     "output_type": "execute_result"
    }
   ],
   "source": [
    "df['CITY'].unique()"
   ]
  },
  {
   "cell_type": "code",
   "execution_count": 186,
   "metadata": {},
   "outputs": [
    {
     "data": {
      "text/plain": [
       "PRODUCTLINE\n",
       "Classic Cars        967\n",
       "Vintage Cars        607\n",
       "Motorcycles         331\n",
       "Planes              306\n",
       "Trucks and Buses    301\n",
       "Ships               234\n",
       "Trains               77\n",
       "Name: count, dtype: int64"
      ]
     },
     "execution_count": 186,
     "metadata": {},
     "output_type": "execute_result"
    }
   ],
   "source": [
    "df['PRODUCTLINE'].unique() #each value unique\n",
    "df['PRODUCTLINE'].value_counts() #total of each unique value \n",
    "# df['PRODUCTLINE'].nunique() #total number of unique values in x column"
   ]
  },
  {
   "cell_type": "code",
   "execution_count": 187,
   "metadata": {},
   "outputs": [
    {
     "data": {
      "text/html": [
       "<div>\n",
       "<style scoped>\n",
       "    .dataframe tbody tr th:only-of-type {\n",
       "        vertical-align: middle;\n",
       "    }\n",
       "\n",
       "    .dataframe tbody tr th {\n",
       "        vertical-align: top;\n",
       "    }\n",
       "\n",
       "    .dataframe thead th {\n",
       "        text-align: right;\n",
       "    }\n",
       "</style>\n",
       "<table border=\"1\" class=\"dataframe\">\n",
       "  <thead>\n",
       "    <tr style=\"text-align: right;\">\n",
       "      <th></th>\n",
       "      <th>QUANTITYORDERED</th>\n",
       "      <th>PRICEEACH</th>\n",
       "      <th>SALES</th>\n",
       "      <th>QTR_ID</th>\n",
       "      <th>MONTH_ID</th>\n",
       "      <th>YEAR_ID</th>\n",
       "    </tr>\n",
       "  </thead>\n",
       "  <tbody>\n",
       "    <tr>\n",
       "      <th>count</th>\n",
       "      <td>2823.000000</td>\n",
       "      <td>2823.000000</td>\n",
       "      <td>2823.000000</td>\n",
       "      <td>2823.000000</td>\n",
       "      <td>2823.000000</td>\n",
       "      <td>2823.00000</td>\n",
       "    </tr>\n",
       "    <tr>\n",
       "      <th>mean</th>\n",
       "      <td>35.092809</td>\n",
       "      <td>83.658544</td>\n",
       "      <td>3553.889072</td>\n",
       "      <td>2.717676</td>\n",
       "      <td>7.092455</td>\n",
       "      <td>2003.81509</td>\n",
       "    </tr>\n",
       "    <tr>\n",
       "      <th>std</th>\n",
       "      <td>9.741443</td>\n",
       "      <td>20.174277</td>\n",
       "      <td>1841.865106</td>\n",
       "      <td>1.203878</td>\n",
       "      <td>3.656633</td>\n",
       "      <td>0.69967</td>\n",
       "    </tr>\n",
       "    <tr>\n",
       "      <th>min</th>\n",
       "      <td>6.000000</td>\n",
       "      <td>26.880000</td>\n",
       "      <td>482.130000</td>\n",
       "      <td>1.000000</td>\n",
       "      <td>1.000000</td>\n",
       "      <td>2003.00000</td>\n",
       "    </tr>\n",
       "    <tr>\n",
       "      <th>25%</th>\n",
       "      <td>27.000000</td>\n",
       "      <td>68.860000</td>\n",
       "      <td>2203.430000</td>\n",
       "      <td>2.000000</td>\n",
       "      <td>4.000000</td>\n",
       "      <td>2003.00000</td>\n",
       "    </tr>\n",
       "    <tr>\n",
       "      <th>50%</th>\n",
       "      <td>35.000000</td>\n",
       "      <td>95.700000</td>\n",
       "      <td>3184.800000</td>\n",
       "      <td>3.000000</td>\n",
       "      <td>8.000000</td>\n",
       "      <td>2004.00000</td>\n",
       "    </tr>\n",
       "    <tr>\n",
       "      <th>75%</th>\n",
       "      <td>43.000000</td>\n",
       "      <td>100.000000</td>\n",
       "      <td>4508.000000</td>\n",
       "      <td>4.000000</td>\n",
       "      <td>11.000000</td>\n",
       "      <td>2004.00000</td>\n",
       "    </tr>\n",
       "    <tr>\n",
       "      <th>max</th>\n",
       "      <td>97.000000</td>\n",
       "      <td>100.000000</td>\n",
       "      <td>14082.800000</td>\n",
       "      <td>4.000000</td>\n",
       "      <td>12.000000</td>\n",
       "      <td>2005.00000</td>\n",
       "    </tr>\n",
       "  </tbody>\n",
       "</table>\n",
       "</div>"
      ],
      "text/plain": [
       "       QUANTITYORDERED    PRICEEACH         SALES       QTR_ID     MONTH_ID  \\\n",
       "count      2823.000000  2823.000000   2823.000000  2823.000000  2823.000000   \n",
       "mean         35.092809    83.658544   3553.889072     2.717676     7.092455   \n",
       "std           9.741443    20.174277   1841.865106     1.203878     3.656633   \n",
       "min           6.000000    26.880000    482.130000     1.000000     1.000000   \n",
       "25%          27.000000    68.860000   2203.430000     2.000000     4.000000   \n",
       "50%          35.000000    95.700000   3184.800000     3.000000     8.000000   \n",
       "75%          43.000000   100.000000   4508.000000     4.000000    11.000000   \n",
       "max          97.000000   100.000000  14082.800000     4.000000    12.000000   \n",
       "\n",
       "          YEAR_ID  \n",
       "count  2823.00000  \n",
       "mean   2003.81509  \n",
       "std       0.69967  \n",
       "min    2003.00000  \n",
       "25%    2003.00000  \n",
       "50%    2004.00000  \n",
       "75%    2004.00000  \n",
       "max    2005.00000  "
      ]
     },
     "execution_count": 187,
     "metadata": {},
     "output_type": "execute_result"
    }
   ],
   "source": [
    "df.describe()"
   ]
  },
  {
   "cell_type": "code",
   "execution_count": 188,
   "metadata": {},
   "outputs": [
    {
     "name": "stdout",
     "output_type": "stream",
     "text": [
      "<class 'pandas.core.frame.DataFrame'>\n",
      "Index: 331 entries, 0 to 2456\n",
      "Data columns (total 14 columns):\n",
      " #   Column           Non-Null Count  Dtype  \n",
      "---  ------           --------------  -----  \n",
      " 0   QUANTITYORDERED  331 non-null    int64  \n",
      " 1   PRICEEACH        331 non-null    float64\n",
      " 2   SALES            331 non-null    float64\n",
      " 3   ORDERDATE        331 non-null    object \n",
      " 4   STATUS           331 non-null    object \n",
      " 5   QTR_ID           331 non-null    int64  \n",
      " 6   MONTH_ID         331 non-null    int64  \n",
      " 7   YEAR_ID          331 non-null    int64  \n",
      " 8   PRODUCTLINE      331 non-null    object \n",
      " 9   PRODUCTCODE      331 non-null    object \n",
      " 10  CUSTOMERNAME     331 non-null    object \n",
      " 11  CITY             331 non-null    object \n",
      " 12  COUNTRY          331 non-null    object \n",
      " 13  DEALSIZE         331 non-null    object \n",
      "dtypes: float64(2), int64(4), object(8)\n",
      "memory usage: 38.8+ KB\n"
     ]
    }
   ],
   "source": [
    "df_fil = df[df['PRODUCTLINE']== 'Motorcycles']\n",
    "df_fil.info()"
   ]
  },
  {
   "cell_type": "code",
   "execution_count": 189,
   "metadata": {},
   "outputs": [
    {
     "data": {
      "text/html": [
       "<div>\n",
       "<style scoped>\n",
       "    .dataframe tbody tr th:only-of-type {\n",
       "        vertical-align: middle;\n",
       "    }\n",
       "\n",
       "    .dataframe tbody tr th {\n",
       "        vertical-align: top;\n",
       "    }\n",
       "\n",
       "    .dataframe thead th {\n",
       "        text-align: right;\n",
       "    }\n",
       "</style>\n",
       "<table border=\"1\" class=\"dataframe\">\n",
       "  <thead>\n",
       "    <tr style=\"text-align: right;\">\n",
       "      <th></th>\n",
       "      <th>QUANTITYORDERED</th>\n",
       "      <th>PRICEEACH</th>\n",
       "    </tr>\n",
       "  </thead>\n",
       "  <tbody>\n",
       "    <tr>\n",
       "      <th>0</th>\n",
       "      <td>30</td>\n",
       "      <td>95.70</td>\n",
       "    </tr>\n",
       "    <tr>\n",
       "      <th>1</th>\n",
       "      <td>34</td>\n",
       "      <td>81.35</td>\n",
       "    </tr>\n",
       "    <tr>\n",
       "      <th>2</th>\n",
       "      <td>41</td>\n",
       "      <td>94.74</td>\n",
       "    </tr>\n",
       "    <tr>\n",
       "      <th>3</th>\n",
       "      <td>45</td>\n",
       "      <td>83.26</td>\n",
       "    </tr>\n",
       "    <tr>\n",
       "      <th>4</th>\n",
       "      <td>49</td>\n",
       "      <td>100.00</td>\n",
       "    </tr>\n",
       "    <tr>\n",
       "      <th>...</th>\n",
       "      <td>...</td>\n",
       "      <td>...</td>\n",
       "    </tr>\n",
       "    <tr>\n",
       "      <th>2818</th>\n",
       "      <td>20</td>\n",
       "      <td>100.00</td>\n",
       "    </tr>\n",
       "    <tr>\n",
       "      <th>2819</th>\n",
       "      <td>29</td>\n",
       "      <td>100.00</td>\n",
       "    </tr>\n",
       "    <tr>\n",
       "      <th>2820</th>\n",
       "      <td>43</td>\n",
       "      <td>100.00</td>\n",
       "    </tr>\n",
       "    <tr>\n",
       "      <th>2821</th>\n",
       "      <td>34</td>\n",
       "      <td>62.24</td>\n",
       "    </tr>\n",
       "    <tr>\n",
       "      <th>2822</th>\n",
       "      <td>47</td>\n",
       "      <td>65.52</td>\n",
       "    </tr>\n",
       "  </tbody>\n",
       "</table>\n",
       "<p>2823 rows × 2 columns</p>\n",
       "</div>"
      ],
      "text/plain": [
       "      QUANTITYORDERED  PRICEEACH\n",
       "0                  30      95.70\n",
       "1                  34      81.35\n",
       "2                  41      94.74\n",
       "3                  45      83.26\n",
       "4                  49     100.00\n",
       "...               ...        ...\n",
       "2818               20     100.00\n",
       "2819               29     100.00\n",
       "2820               43     100.00\n",
       "2821               34      62.24\n",
       "2822               47      65.52\n",
       "\n",
       "[2823 rows x 2 columns]"
      ]
     },
     "execution_count": 189,
     "metadata": {},
     "output_type": "execute_result"
    }
   ],
   "source": [
    "df_price = df[['QUANTITYORDERED', 'PRICEEACH']]\n",
    "df_price"
   ]
  },
  {
   "cell_type": "code",
   "execution_count": 190,
   "metadata": {},
   "outputs": [
    {
     "data": {
      "text/html": [
       "<div>\n",
       "<style scoped>\n",
       "    .dataframe tbody tr th:only-of-type {\n",
       "        vertical-align: middle;\n",
       "    }\n",
       "\n",
       "    .dataframe tbody tr th {\n",
       "        vertical-align: top;\n",
       "    }\n",
       "\n",
       "    .dataframe thead th {\n",
       "        text-align: right;\n",
       "    }\n",
       "</style>\n",
       "<table border=\"1\" class=\"dataframe\">\n",
       "  <thead>\n",
       "    <tr style=\"text-align: right;\">\n",
       "      <th></th>\n",
       "      <th>QUANTITYORDERED</th>\n",
       "      <th>PRICEEACH</th>\n",
       "    </tr>\n",
       "  </thead>\n",
       "  <tbody>\n",
       "    <tr>\n",
       "      <th>QUANTITYORDERED</th>\n",
       "      <td>1.000000</td>\n",
       "      <td>0.005564</td>\n",
       "    </tr>\n",
       "    <tr>\n",
       "      <th>PRICEEACH</th>\n",
       "      <td>0.005564</td>\n",
       "      <td>1.000000</td>\n",
       "    </tr>\n",
       "  </tbody>\n",
       "</table>\n",
       "</div>"
      ],
      "text/plain": [
       "                 QUANTITYORDERED  PRICEEACH\n",
       "QUANTITYORDERED         1.000000   0.005564\n",
       "PRICEEACH               0.005564   1.000000"
      ]
     },
     "execution_count": 190,
     "metadata": {},
     "output_type": "execute_result"
    }
   ],
   "source": [
    "df_price.corr()"
   ]
  },
  {
   "cell_type": "code",
   "execution_count": 191,
   "metadata": {},
   "outputs": [
    {
     "name": "stdout",
     "output_type": "stream",
     "text": [
      "<class 'pandas.core.frame.DataFrame'>\n",
      "RangeIndex: 2823 entries, 0 to 2822\n",
      "Data columns (total 14 columns):\n",
      " #   Column           Non-Null Count  Dtype         \n",
      "---  ------           --------------  -----         \n",
      " 0   QUANTITYORDERED  2823 non-null   int64         \n",
      " 1   PRICEEACH        2823 non-null   float64       \n",
      " 2   SALES            2823 non-null   float64       \n",
      " 3   ORDERDATE        2823 non-null   datetime64[ns]\n",
      " 4   STATUS           2823 non-null   object        \n",
      " 5   QTR_ID           2823 non-null   int64         \n",
      " 6   MONTH_ID         2823 non-null   int64         \n",
      " 7   YEAR_ID          2823 non-null   int64         \n",
      " 8   PRODUCTLINE      2823 non-null   object        \n",
      " 9   PRODUCTCODE      2823 non-null   object        \n",
      " 10  CUSTOMERNAME     2823 non-null   object        \n",
      " 11  CITY             2823 non-null   object        \n",
      " 12  COUNTRY          2823 non-null   object        \n",
      " 13  DEALSIZE         2823 non-null   object        \n",
      "dtypes: datetime64[ns](1), float64(2), int64(4), object(7)\n",
      "memory usage: 308.9+ KB\n"
     ]
    }
   ],
   "source": [
    "df['ORDERDATE'] = pd.to_datetime(df['ORDERDATE'])\n",
    "df.describe()\n",
    "df.info()"
   ]
  },
  {
   "cell_type": "code",
   "execution_count": 192,
   "metadata": {},
   "outputs": [],
   "source": [
    "#posso trocar por .loc (df_fil.loc[df['colum'] == 'something'])\n",
    "df_fil = df_fil[(df_fil['PRODUCTCODE'] == 'S10_1678') &(df_fil['QTR_ID'] == 1)] #filtrando pelo primeiro trimestre de um produto especifico"
   ]
  },
  {
   "cell_type": "code",
   "execution_count": 193,
   "metadata": {},
   "outputs": [
    {
     "data": {
      "text/html": [
       "<div>\n",
       "<style scoped>\n",
       "    .dataframe tbody tr th:only-of-type {\n",
       "        vertical-align: middle;\n",
       "    }\n",
       "\n",
       "    .dataframe tbody tr th {\n",
       "        vertical-align: top;\n",
       "    }\n",
       "\n",
       "    .dataframe thead th {\n",
       "        text-align: right;\n",
       "    }\n",
       "</style>\n",
       "<table border=\"1\" class=\"dataframe\">\n",
       "  <thead>\n",
       "    <tr style=\"text-align: right;\">\n",
       "      <th></th>\n",
       "      <th>QUANTITYORDERED</th>\n",
       "      <th>PRICEEACH</th>\n",
       "      <th>SALES</th>\n",
       "      <th>ORDERDATE</th>\n",
       "      <th>STATUS</th>\n",
       "      <th>QTR_ID</th>\n",
       "      <th>MONTH_ID</th>\n",
       "      <th>YEAR_ID</th>\n",
       "      <th>PRODUCTLINE</th>\n",
       "      <th>PRODUCTCODE</th>\n",
       "      <th>CUSTOMERNAME</th>\n",
       "      <th>CITY</th>\n",
       "      <th>COUNTRY</th>\n",
       "      <th>DEALSIZE</th>\n",
       "    </tr>\n",
       "  </thead>\n",
       "  <tbody>\n",
       "    <tr>\n",
       "      <th>0</th>\n",
       "      <td>30</td>\n",
       "      <td>95.70</td>\n",
       "      <td>2871.00</td>\n",
       "      <td>2/24/2003 0:00</td>\n",
       "      <td>Shipped</td>\n",
       "      <td>1</td>\n",
       "      <td>2</td>\n",
       "      <td>2003</td>\n",
       "      <td>Motorcycles</td>\n",
       "      <td>S10_1678</td>\n",
       "      <td>Land of Toys Inc.</td>\n",
       "      <td>NYC</td>\n",
       "      <td>USA</td>\n",
       "      <td>Small</td>\n",
       "    </tr>\n",
       "    <tr>\n",
       "      <th>9</th>\n",
       "      <td>41</td>\n",
       "      <td>100.00</td>\n",
       "      <td>4708.44</td>\n",
       "      <td>1/15/2004 0:00</td>\n",
       "      <td>Shipped</td>\n",
       "      <td>1</td>\n",
       "      <td>1</td>\n",
       "      <td>2004</td>\n",
       "      <td>Motorcycles</td>\n",
       "      <td>S10_1678</td>\n",
       "      <td>Auto Canal Petit</td>\n",
       "      <td>Paris</td>\n",
       "      <td>France</td>\n",
       "      <td>Medium</td>\n",
       "    </tr>\n",
       "    <tr>\n",
       "      <th>10</th>\n",
       "      <td>37</td>\n",
       "      <td>100.00</td>\n",
       "      <td>3965.66</td>\n",
       "      <td>2/20/2004 0:00</td>\n",
       "      <td>Shipped</td>\n",
       "      <td>1</td>\n",
       "      <td>2</td>\n",
       "      <td>2004</td>\n",
       "      <td>Motorcycles</td>\n",
       "      <td>S10_1678</td>\n",
       "      <td>Australian Collectors, Co.</td>\n",
       "      <td>Melbourne</td>\n",
       "      <td>Australia</td>\n",
       "      <td>Medium</td>\n",
       "    </tr>\n",
       "    <tr>\n",
       "      <th>22</th>\n",
       "      <td>21</td>\n",
       "      <td>34.91</td>\n",
       "      <td>733.11</td>\n",
       "      <td>2/3/2005 0:00</td>\n",
       "      <td>Shipped</td>\n",
       "      <td>1</td>\n",
       "      <td>2</td>\n",
       "      <td>2005</td>\n",
       "      <td>Motorcycles</td>\n",
       "      <td>S10_1678</td>\n",
       "      <td>La Rochelle Gifts</td>\n",
       "      <td>Nantes</td>\n",
       "      <td>France</td>\n",
       "      <td>Small</td>\n",
       "    </tr>\n",
       "    <tr>\n",
       "      <th>23</th>\n",
       "      <td>42</td>\n",
       "      <td>76.36</td>\n",
       "      <td>3207.12</td>\n",
       "      <td>3/3/2005 0:00</td>\n",
       "      <td>Shipped</td>\n",
       "      <td>1</td>\n",
       "      <td>3</td>\n",
       "      <td>2005</td>\n",
       "      <td>Motorcycles</td>\n",
       "      <td>S10_1678</td>\n",
       "      <td>FunGiftIdeas.com</td>\n",
       "      <td>New Bedford</td>\n",
       "      <td>USA</td>\n",
       "      <td>Medium</td>\n",
       "    </tr>\n",
       "  </tbody>\n",
       "</table>\n",
       "</div>"
      ],
      "text/plain": [
       "    QUANTITYORDERED  PRICEEACH    SALES       ORDERDATE   STATUS  QTR_ID  \\\n",
       "0                30      95.70  2871.00  2/24/2003 0:00  Shipped       1   \n",
       "9                41     100.00  4708.44  1/15/2004 0:00  Shipped       1   \n",
       "10               37     100.00  3965.66  2/20/2004 0:00  Shipped       1   \n",
       "22               21      34.91   733.11   2/3/2005 0:00  Shipped       1   \n",
       "23               42      76.36  3207.12   3/3/2005 0:00  Shipped       1   \n",
       "\n",
       "    MONTH_ID  YEAR_ID  PRODUCTLINE PRODUCTCODE                CUSTOMERNAME  \\\n",
       "0          2     2003  Motorcycles    S10_1678           Land of Toys Inc.   \n",
       "9          1     2004  Motorcycles    S10_1678            Auto Canal Petit   \n",
       "10         2     2004  Motorcycles    S10_1678  Australian Collectors, Co.   \n",
       "22         2     2005  Motorcycles    S10_1678           La Rochelle Gifts   \n",
       "23         3     2005  Motorcycles    S10_1678            FunGiftIdeas.com   \n",
       "\n",
       "           CITY    COUNTRY DEALSIZE  \n",
       "0           NYC        USA    Small  \n",
       "9         Paris     France   Medium  \n",
       "10    Melbourne  Australia   Medium  \n",
       "22       Nantes     France    Small  \n",
       "23  New Bedford        USA   Medium  "
      ]
     },
     "execution_count": 193,
     "metadata": {},
     "output_type": "execute_result"
    }
   ],
   "source": [
    "df_fil"
   ]
  },
  {
   "cell_type": "code",
   "execution_count": 194,
   "metadata": {},
   "outputs": [
    {
     "data": {
      "text/plain": [
       "0.9138025252608193"
      ]
     },
     "execution_count": 194,
     "metadata": {},
     "output_type": "execute_result"
    }
   ],
   "source": [
    "df_fil['PRICEEACH'].corr(df_fil['SALES'])"
   ]
  },
  {
   "cell_type": "code",
   "execution_count": 195,
   "metadata": {},
   "outputs": [],
   "source": [
    "df_s10 = df_fil[(df_fil['PRODUCTCODE'] == 'S10_1678') &(df_fil['QTR_ID'] == 1) &(df_fil['YEAR_ID'] == 2004)]"
   ]
  },
  {
   "cell_type": "code",
   "execution_count": 196,
   "metadata": {},
   "outputs": [
    {
     "data": {
      "text/html": [
       "<div>\n",
       "<style scoped>\n",
       "    .dataframe tbody tr th:only-of-type {\n",
       "        vertical-align: middle;\n",
       "    }\n",
       "\n",
       "    .dataframe tbody tr th {\n",
       "        vertical-align: top;\n",
       "    }\n",
       "\n",
       "    .dataframe thead th {\n",
       "        text-align: right;\n",
       "    }\n",
       "</style>\n",
       "<table border=\"1\" class=\"dataframe\">\n",
       "  <thead>\n",
       "    <tr style=\"text-align: right;\">\n",
       "      <th></th>\n",
       "      <th>QUANTITYORDERED</th>\n",
       "      <th>PRICEEACH</th>\n",
       "      <th>SALES</th>\n",
       "      <th>ORDERDATE</th>\n",
       "      <th>STATUS</th>\n",
       "      <th>QTR_ID</th>\n",
       "      <th>MONTH_ID</th>\n",
       "      <th>YEAR_ID</th>\n",
       "      <th>PRODUCTLINE</th>\n",
       "      <th>PRODUCTCODE</th>\n",
       "      <th>CUSTOMERNAME</th>\n",
       "      <th>CITY</th>\n",
       "      <th>COUNTRY</th>\n",
       "      <th>DEALSIZE</th>\n",
       "    </tr>\n",
       "  </thead>\n",
       "  <tbody>\n",
       "    <tr>\n",
       "      <th>9</th>\n",
       "      <td>41</td>\n",
       "      <td>100.0</td>\n",
       "      <td>4708.44</td>\n",
       "      <td>1/15/2004 0:00</td>\n",
       "      <td>Shipped</td>\n",
       "      <td>1</td>\n",
       "      <td>1</td>\n",
       "      <td>2004</td>\n",
       "      <td>Motorcycles</td>\n",
       "      <td>S10_1678</td>\n",
       "      <td>Auto Canal Petit</td>\n",
       "      <td>Paris</td>\n",
       "      <td>France</td>\n",
       "      <td>Medium</td>\n",
       "    </tr>\n",
       "    <tr>\n",
       "      <th>10</th>\n",
       "      <td>37</td>\n",
       "      <td>100.0</td>\n",
       "      <td>3965.66</td>\n",
       "      <td>2/20/2004 0:00</td>\n",
       "      <td>Shipped</td>\n",
       "      <td>1</td>\n",
       "      <td>2</td>\n",
       "      <td>2004</td>\n",
       "      <td>Motorcycles</td>\n",
       "      <td>S10_1678</td>\n",
       "      <td>Australian Collectors, Co.</td>\n",
       "      <td>Melbourne</td>\n",
       "      <td>Australia</td>\n",
       "      <td>Medium</td>\n",
       "    </tr>\n",
       "  </tbody>\n",
       "</table>\n",
       "</div>"
      ],
      "text/plain": [
       "    QUANTITYORDERED  PRICEEACH    SALES       ORDERDATE   STATUS  QTR_ID  \\\n",
       "9                41      100.0  4708.44  1/15/2004 0:00  Shipped       1   \n",
       "10               37      100.0  3965.66  2/20/2004 0:00  Shipped       1   \n",
       "\n",
       "    MONTH_ID  YEAR_ID  PRODUCTLINE PRODUCTCODE                CUSTOMERNAME  \\\n",
       "9          1     2004  Motorcycles    S10_1678            Auto Canal Petit   \n",
       "10         2     2004  Motorcycles    S10_1678  Australian Collectors, Co.   \n",
       "\n",
       "         CITY    COUNTRY DEALSIZE  \n",
       "9       Paris     France   Medium  \n",
       "10  Melbourne  Australia   Medium  "
      ]
     },
     "execution_count": 196,
     "metadata": {},
     "output_type": "execute_result"
    }
   ],
   "source": [
    "df_s10"
   ]
  },
  {
   "cell_type": "code",
   "execution_count": 197,
   "metadata": {},
   "outputs": [
    {
     "data": {
      "text/plain": [
       "nan"
      ]
     },
     "execution_count": 197,
     "metadata": {},
     "output_type": "execute_result"
    }
   ],
   "source": [
    "df_s10['PRICEEACH'].corr(df_s10['SALES'])"
   ]
  },
  {
   "cell_type": "code",
   "execution_count": 198,
   "metadata": {},
   "outputs": [
    {
     "data": {
      "text/html": [
       "<div>\n",
       "<style scoped>\n",
       "    .dataframe tbody tr th:only-of-type {\n",
       "        vertical-align: middle;\n",
       "    }\n",
       "\n",
       "    .dataframe tbody tr th {\n",
       "        vertical-align: top;\n",
       "    }\n",
       "\n",
       "    .dataframe thead th {\n",
       "        text-align: right;\n",
       "    }\n",
       "</style>\n",
       "<table border=\"1\" class=\"dataframe\">\n",
       "  <thead>\n",
       "    <tr style=\"text-align: right;\">\n",
       "      <th></th>\n",
       "      <th>QUANTITYORDERED</th>\n",
       "      <th>PRICEEACH</th>\n",
       "      <th>SALES</th>\n",
       "      <th>ORDERDATE</th>\n",
       "      <th>STATUS</th>\n",
       "      <th>QTR_ID</th>\n",
       "      <th>MONTH_ID</th>\n",
       "      <th>YEAR_ID</th>\n",
       "      <th>PRODUCTLINE</th>\n",
       "      <th>PRODUCTCODE</th>\n",
       "      <th>CUSTOMERNAME</th>\n",
       "      <th>CITY</th>\n",
       "      <th>COUNTRY</th>\n",
       "      <th>DEALSIZE</th>\n",
       "    </tr>\n",
       "  </thead>\n",
       "  <tbody>\n",
       "    <tr>\n",
       "      <th>0</th>\n",
       "      <td>30</td>\n",
       "      <td>95.70</td>\n",
       "      <td>2871.00</td>\n",
       "      <td>2/24/2003 0:00</td>\n",
       "      <td>Shipped</td>\n",
       "      <td>1</td>\n",
       "      <td>2</td>\n",
       "      <td>2003</td>\n",
       "      <td>Motorcycles</td>\n",
       "      <td>S10_1678</td>\n",
       "      <td>Land of Toys Inc.</td>\n",
       "      <td>NYC</td>\n",
       "      <td>USA</td>\n",
       "      <td>Small</td>\n",
       "    </tr>\n",
       "    <tr>\n",
       "      <th>9</th>\n",
       "      <td>41</td>\n",
       "      <td>100.00</td>\n",
       "      <td>4708.44</td>\n",
       "      <td>1/15/2004 0:00</td>\n",
       "      <td>Shipped</td>\n",
       "      <td>1</td>\n",
       "      <td>1</td>\n",
       "      <td>2004</td>\n",
       "      <td>Motorcycles</td>\n",
       "      <td>S10_1678</td>\n",
       "      <td>Auto Canal Petit</td>\n",
       "      <td>Paris</td>\n",
       "      <td>France</td>\n",
       "      <td>Medium</td>\n",
       "    </tr>\n",
       "    <tr>\n",
       "      <th>10</th>\n",
       "      <td>37</td>\n",
       "      <td>100.00</td>\n",
       "      <td>3965.66</td>\n",
       "      <td>2/20/2004 0:00</td>\n",
       "      <td>Shipped</td>\n",
       "      <td>1</td>\n",
       "      <td>2</td>\n",
       "      <td>2004</td>\n",
       "      <td>Motorcycles</td>\n",
       "      <td>S10_1678</td>\n",
       "      <td>Australian Collectors, Co.</td>\n",
       "      <td>Melbourne</td>\n",
       "      <td>Australia</td>\n",
       "      <td>Medium</td>\n",
       "    </tr>\n",
       "    <tr>\n",
       "      <th>22</th>\n",
       "      <td>21</td>\n",
       "      <td>34.91</td>\n",
       "      <td>733.11</td>\n",
       "      <td>2/3/2005 0:00</td>\n",
       "      <td>Shipped</td>\n",
       "      <td>1</td>\n",
       "      <td>2</td>\n",
       "      <td>2005</td>\n",
       "      <td>Motorcycles</td>\n",
       "      <td>S10_1678</td>\n",
       "      <td>La Rochelle Gifts</td>\n",
       "      <td>Nantes</td>\n",
       "      <td>France</td>\n",
       "      <td>Small</td>\n",
       "    </tr>\n",
       "    <tr>\n",
       "      <th>23</th>\n",
       "      <td>42</td>\n",
       "      <td>76.36</td>\n",
       "      <td>3207.12</td>\n",
       "      <td>3/3/2005 0:00</td>\n",
       "      <td>Shipped</td>\n",
       "      <td>1</td>\n",
       "      <td>3</td>\n",
       "      <td>2005</td>\n",
       "      <td>Motorcycles</td>\n",
       "      <td>S10_1678</td>\n",
       "      <td>FunGiftIdeas.com</td>\n",
       "      <td>New Bedford</td>\n",
       "      <td>USA</td>\n",
       "      <td>Medium</td>\n",
       "    </tr>\n",
       "  </tbody>\n",
       "</table>\n",
       "</div>"
      ],
      "text/plain": [
       "    QUANTITYORDERED  PRICEEACH    SALES       ORDERDATE   STATUS  QTR_ID  \\\n",
       "0                30      95.70  2871.00  2/24/2003 0:00  Shipped       1   \n",
       "9                41     100.00  4708.44  1/15/2004 0:00  Shipped       1   \n",
       "10               37     100.00  3965.66  2/20/2004 0:00  Shipped       1   \n",
       "22               21      34.91   733.11   2/3/2005 0:00  Shipped       1   \n",
       "23               42      76.36  3207.12   3/3/2005 0:00  Shipped       1   \n",
       "\n",
       "    MONTH_ID  YEAR_ID  PRODUCTLINE PRODUCTCODE                CUSTOMERNAME  \\\n",
       "0          2     2003  Motorcycles    S10_1678           Land of Toys Inc.   \n",
       "9          1     2004  Motorcycles    S10_1678            Auto Canal Petit   \n",
       "10         2     2004  Motorcycles    S10_1678  Australian Collectors, Co.   \n",
       "22         2     2005  Motorcycles    S10_1678           La Rochelle Gifts   \n",
       "23         3     2005  Motorcycles    S10_1678            FunGiftIdeas.com   \n",
       "\n",
       "           CITY    COUNTRY DEALSIZE  \n",
       "0           NYC        USA    Small  \n",
       "9         Paris     France   Medium  \n",
       "10    Melbourne  Australia   Medium  \n",
       "22       Nantes     France    Small  \n",
       "23  New Bedford        USA   Medium  "
      ]
     },
     "execution_count": 198,
     "metadata": {},
     "output_type": "execute_result"
    }
   ],
   "source": [
    "df_fil"
   ]
  },
  {
   "cell_type": "code",
   "execution_count": 199,
   "metadata": {},
   "outputs": [
    {
     "data": {
      "text/plain": [
       "109"
      ]
     },
     "execution_count": 199,
     "metadata": {},
     "output_type": "execute_result"
    }
   ],
   "source": [
    "df['PRODUCTCODE'].value_counts(ascending=1)\n",
    "df['PRODUCTCODE'].nunique()"
   ]
  },
  {
   "cell_type": "markdown",
   "metadata": {},
   "source": [
    "temos 109 productCode diferentes, 109 automoveis diferentes."
   ]
  },
  {
   "cell_type": "code",
   "execution_count": 200,
   "metadata": {},
   "outputs": [
    {
     "data": {
      "text/plain": [
       "19"
      ]
     },
     "execution_count": 200,
     "metadata": {},
     "output_type": "execute_result"
    }
   ],
   "source": [
    "df['COUNTRY'].nunique()\n",
    "#quantidade de paises diferentes que foram exportados."
   ]
  },
  {
   "cell_type": "code",
   "execution_count": 201,
   "metadata": {},
   "outputs": [],
   "source": [
    "#quero saber para determinado pais quais produtos foram exportados\n",
    "def  exp_prod_pais(df, countryColumn, countryName):\n",
    "    return df[(df[countryColumn] == countryName)]\n"
   ]
  },
  {
   "cell_type": "code",
   "execution_count": 202,
   "metadata": {},
   "outputs": [
    {
     "data": {
      "text/html": [
       "<div>\n",
       "<style scoped>\n",
       "    .dataframe tbody tr th:only-of-type {\n",
       "        vertical-align: middle;\n",
       "    }\n",
       "\n",
       "    .dataframe tbody tr th {\n",
       "        vertical-align: top;\n",
       "    }\n",
       "\n",
       "    .dataframe thead th {\n",
       "        text-align: right;\n",
       "    }\n",
       "</style>\n",
       "<table border=\"1\" class=\"dataframe\">\n",
       "  <thead>\n",
       "    <tr style=\"text-align: right;\">\n",
       "      <th></th>\n",
       "      <th>QUANTITYORDERED</th>\n",
       "      <th>PRICEEACH</th>\n",
       "      <th>SALES</th>\n",
       "      <th>ORDERDATE</th>\n",
       "      <th>STATUS</th>\n",
       "      <th>QTR_ID</th>\n",
       "      <th>MONTH_ID</th>\n",
       "      <th>YEAR_ID</th>\n",
       "      <th>PRODUCTLINE</th>\n",
       "      <th>PRODUCTCODE</th>\n",
       "      <th>CUSTOMERNAME</th>\n",
       "      <th>CITY</th>\n",
       "      <th>COUNTRY</th>\n",
       "      <th>DEALSIZE</th>\n",
       "    </tr>\n",
       "  </thead>\n",
       "  <tbody>\n",
       "    <tr>\n",
       "      <th>1</th>\n",
       "      <td>34</td>\n",
       "      <td>81.35</td>\n",
       "      <td>2765.90</td>\n",
       "      <td>2003-05-07</td>\n",
       "      <td>Shipped</td>\n",
       "      <td>2</td>\n",
       "      <td>5</td>\n",
       "      <td>2003</td>\n",
       "      <td>Motorcycles</td>\n",
       "      <td>S10_1678</td>\n",
       "      <td>Reims Collectables</td>\n",
       "      <td>Reims</td>\n",
       "      <td>France</td>\n",
       "      <td>Small</td>\n",
       "    </tr>\n",
       "    <tr>\n",
       "      <th>2</th>\n",
       "      <td>41</td>\n",
       "      <td>94.74</td>\n",
       "      <td>3884.34</td>\n",
       "      <td>2003-07-01</td>\n",
       "      <td>Shipped</td>\n",
       "      <td>3</td>\n",
       "      <td>7</td>\n",
       "      <td>2003</td>\n",
       "      <td>Motorcycles</td>\n",
       "      <td>S10_1678</td>\n",
       "      <td>Lyon Souveniers</td>\n",
       "      <td>Paris</td>\n",
       "      <td>France</td>\n",
       "      <td>Medium</td>\n",
       "    </tr>\n",
       "    <tr>\n",
       "      <th>6</th>\n",
       "      <td>29</td>\n",
       "      <td>86.13</td>\n",
       "      <td>2497.77</td>\n",
       "      <td>2003-11-11</td>\n",
       "      <td>Shipped</td>\n",
       "      <td>4</td>\n",
       "      <td>11</td>\n",
       "      <td>2003</td>\n",
       "      <td>Motorcycles</td>\n",
       "      <td>S10_1678</td>\n",
       "      <td>Daedalus Designs Imports</td>\n",
       "      <td>Lille</td>\n",
       "      <td>France</td>\n",
       "      <td>Small</td>\n",
       "    </tr>\n",
       "    <tr>\n",
       "      <th>9</th>\n",
       "      <td>41</td>\n",
       "      <td>100.00</td>\n",
       "      <td>4708.44</td>\n",
       "      <td>2004-01-15</td>\n",
       "      <td>Shipped</td>\n",
       "      <td>1</td>\n",
       "      <td>1</td>\n",
       "      <td>2004</td>\n",
       "      <td>Motorcycles</td>\n",
       "      <td>S10_1678</td>\n",
       "      <td>Auto Canal Petit</td>\n",
       "      <td>Paris</td>\n",
       "      <td>France</td>\n",
       "      <td>Medium</td>\n",
       "    </tr>\n",
       "    <tr>\n",
       "      <th>14</th>\n",
       "      <td>45</td>\n",
       "      <td>92.83</td>\n",
       "      <td>4177.35</td>\n",
       "      <td>2004-07-23</td>\n",
       "      <td>Shipped</td>\n",
       "      <td>3</td>\n",
       "      <td>7</td>\n",
       "      <td>2004</td>\n",
       "      <td>Motorcycles</td>\n",
       "      <td>S10_1678</td>\n",
       "      <td>La Rochelle Gifts</td>\n",
       "      <td>Nantes</td>\n",
       "      <td>France</td>\n",
       "      <td>Medium</td>\n",
       "    </tr>\n",
       "    <tr>\n",
       "      <th>...</th>\n",
       "      <td>...</td>\n",
       "      <td>...</td>\n",
       "      <td>...</td>\n",
       "      <td>...</td>\n",
       "      <td>...</td>\n",
       "      <td>...</td>\n",
       "      <td>...</td>\n",
       "      <td>...</td>\n",
       "      <td>...</td>\n",
       "      <td>...</td>\n",
       "      <td>...</td>\n",
       "      <td>...</td>\n",
       "      <td>...</td>\n",
       "      <td>...</td>\n",
       "    </tr>\n",
       "    <tr>\n",
       "      <th>2776</th>\n",
       "      <td>45</td>\n",
       "      <td>51.15</td>\n",
       "      <td>2301.75</td>\n",
       "      <td>2003-11-08</td>\n",
       "      <td>Shipped</td>\n",
       "      <td>4</td>\n",
       "      <td>11</td>\n",
       "      <td>2003</td>\n",
       "      <td>Planes</td>\n",
       "      <td>S72_1253</td>\n",
       "      <td>Alpha Cognac</td>\n",
       "      <td>Toulouse</td>\n",
       "      <td>France</td>\n",
       "      <td>Small</td>\n",
       "    </tr>\n",
       "    <tr>\n",
       "      <th>2794</th>\n",
       "      <td>34</td>\n",
       "      <td>40.22</td>\n",
       "      <td>1367.48</td>\n",
       "      <td>2005-03-30</td>\n",
       "      <td>Shipped</td>\n",
       "      <td>1</td>\n",
       "      <td>3</td>\n",
       "      <td>2005</td>\n",
       "      <td>Planes</td>\n",
       "      <td>S72_1253</td>\n",
       "      <td>Reims Collectables</td>\n",
       "      <td>Reims</td>\n",
       "      <td>France</td>\n",
       "      <td>Small</td>\n",
       "    </tr>\n",
       "    <tr>\n",
       "      <th>2806</th>\n",
       "      <td>42</td>\n",
       "      <td>63.88</td>\n",
       "      <td>2682.96</td>\n",
       "      <td>2004-01-02</td>\n",
       "      <td>Shipped</td>\n",
       "      <td>1</td>\n",
       "      <td>1</td>\n",
       "      <td>2004</td>\n",
       "      <td>Ships</td>\n",
       "      <td>S72_3212</td>\n",
       "      <td>Saveley &amp; Henriot, Co.</td>\n",
       "      <td>Lyon</td>\n",
       "      <td>France</td>\n",
       "      <td>Small</td>\n",
       "    </tr>\n",
       "    <tr>\n",
       "      <th>2815</th>\n",
       "      <td>40</td>\n",
       "      <td>55.69</td>\n",
       "      <td>2227.60</td>\n",
       "      <td>2004-10-29</td>\n",
       "      <td>Shipped</td>\n",
       "      <td>4</td>\n",
       "      <td>10</td>\n",
       "      <td>2004</td>\n",
       "      <td>Ships</td>\n",
       "      <td>S72_3212</td>\n",
       "      <td>La Rochelle Gifts</td>\n",
       "      <td>Nantes</td>\n",
       "      <td>France</td>\n",
       "      <td>Small</td>\n",
       "    </tr>\n",
       "    <tr>\n",
       "      <th>2821</th>\n",
       "      <td>34</td>\n",
       "      <td>62.24</td>\n",
       "      <td>2116.16</td>\n",
       "      <td>2005-03-28</td>\n",
       "      <td>Shipped</td>\n",
       "      <td>1</td>\n",
       "      <td>3</td>\n",
       "      <td>2005</td>\n",
       "      <td>Ships</td>\n",
       "      <td>S72_3212</td>\n",
       "      <td>Alpha Cognac</td>\n",
       "      <td>Toulouse</td>\n",
       "      <td>France</td>\n",
       "      <td>Small</td>\n",
       "    </tr>\n",
       "  </tbody>\n",
       "</table>\n",
       "<p>314 rows × 14 columns</p>\n",
       "</div>"
      ],
      "text/plain": [
       "      QUANTITYORDERED  PRICEEACH    SALES  ORDERDATE   STATUS  QTR_ID  \\\n",
       "1                  34      81.35  2765.90 2003-05-07  Shipped       2   \n",
       "2                  41      94.74  3884.34 2003-07-01  Shipped       3   \n",
       "6                  29      86.13  2497.77 2003-11-11  Shipped       4   \n",
       "9                  41     100.00  4708.44 2004-01-15  Shipped       1   \n",
       "14                 45      92.83  4177.35 2004-07-23  Shipped       3   \n",
       "...               ...        ...      ...        ...      ...     ...   \n",
       "2776               45      51.15  2301.75 2003-11-08  Shipped       4   \n",
       "2794               34      40.22  1367.48 2005-03-30  Shipped       1   \n",
       "2806               42      63.88  2682.96 2004-01-02  Shipped       1   \n",
       "2815               40      55.69  2227.60 2004-10-29  Shipped       4   \n",
       "2821               34      62.24  2116.16 2005-03-28  Shipped       1   \n",
       "\n",
       "      MONTH_ID  YEAR_ID  PRODUCTLINE PRODUCTCODE              CUSTOMERNAME  \\\n",
       "1            5     2003  Motorcycles    S10_1678        Reims Collectables   \n",
       "2            7     2003  Motorcycles    S10_1678           Lyon Souveniers   \n",
       "6           11     2003  Motorcycles    S10_1678  Daedalus Designs Imports   \n",
       "9            1     2004  Motorcycles    S10_1678          Auto Canal Petit   \n",
       "14           7     2004  Motorcycles    S10_1678         La Rochelle Gifts   \n",
       "...        ...      ...          ...         ...                       ...   \n",
       "2776        11     2003       Planes    S72_1253              Alpha Cognac   \n",
       "2794         3     2005       Planes    S72_1253        Reims Collectables   \n",
       "2806         1     2004        Ships    S72_3212    Saveley & Henriot, Co.   \n",
       "2815        10     2004        Ships    S72_3212         La Rochelle Gifts   \n",
       "2821         3     2005        Ships    S72_3212              Alpha Cognac   \n",
       "\n",
       "          CITY COUNTRY DEALSIZE  \n",
       "1        Reims  France    Small  \n",
       "2        Paris  France   Medium  \n",
       "6        Lille  France    Small  \n",
       "9        Paris  France   Medium  \n",
       "14      Nantes  France   Medium  \n",
       "...        ...     ...      ...  \n",
       "2776  Toulouse  France    Small  \n",
       "2794     Reims  France    Small  \n",
       "2806      Lyon  France    Small  \n",
       "2815    Nantes  France    Small  \n",
       "2821  Toulouse  France    Small  \n",
       "\n",
       "[314 rows x 14 columns]"
      ]
     },
     "execution_count": 202,
     "metadata": {},
     "output_type": "execute_result"
    }
   ],
   "source": [
    "exp_prod_pais(df, 'COUNTRY', 'France')"
   ]
  },
  {
   "cell_type": "code",
   "execution_count": 203,
   "metadata": {},
   "outputs": [
    {
     "data": {
      "text/plain": [
       "array(['USA', 'France', 'Norway', 'Australia', 'Finland', 'Austria', 'UK',\n",
       "       'Spain', 'Sweden', 'Singapore', 'Canada', 'Japan', 'Italy',\n",
       "       'Denmark', 'Belgium', 'Philippines', 'Germany', 'Switzerland',\n",
       "       'Ireland'], dtype=object)"
      ]
     },
     "execution_count": 203,
     "metadata": {},
     "output_type": "execute_result"
    }
   ],
   "source": [
    "df['COUNTRY'].unique()"
   ]
  },
  {
   "cell_type": "code",
   "execution_count": 204,
   "metadata": {},
   "outputs": [
    {
     "data": {
      "text/plain": [
       "array(['Motorcycles', 'Classic Cars', 'Trucks and Buses', 'Vintage Cars',\n",
       "       'Planes', 'Ships', 'Trains'], dtype=object)"
      ]
     },
     "execution_count": 204,
     "metadata": {},
     "output_type": "execute_result"
    }
   ],
   "source": [
    "df['PRODUCTLINE'].unique()"
   ]
  },
  {
   "cell_type": "code",
   "execution_count": 206,
   "metadata": {},
   "outputs": [
    {
     "name": "stdout",
     "output_type": "stream",
     "text": [
      "<class 'pandas.core.frame.DataFrame'>\n",
      "RangeIndex: 2823 entries, 0 to 2822\n",
      "Data columns (total 14 columns):\n",
      " #   Column           Non-Null Count  Dtype         \n",
      "---  ------           --------------  -----         \n",
      " 0   QUANTITYORDERED  2823 non-null   int64         \n",
      " 1   PRICEEACH        2823 non-null   float64       \n",
      " 2   SALES            2823 non-null   float64       \n",
      " 3   ORDERDATE        2823 non-null   datetime64[ns]\n",
      " 4   STATUS           2823 non-null   object        \n",
      " 5   QTR_ID           2823 non-null   int64         \n",
      " 6   MONTH_ID         2823 non-null   int64         \n",
      " 7   YEAR_ID          2823 non-null   int64         \n",
      " 8   PRODUCTLINE      2823 non-null   object        \n",
      " 9   PRODUCTCODE      2823 non-null   object        \n",
      " 10  CUSTOMERNAME     2823 non-null   object        \n",
      " 11  CITY             2823 non-null   object        \n",
      " 12  COUNTRY          2823 non-null   object        \n",
      " 13  DEALSIZE         2823 non-null   object        \n",
      "dtypes: datetime64[ns](1), float64(2), int64(4), object(7)\n",
      "memory usage: 308.9+ KB\n"
     ]
    }
   ],
   "source": [
    "#preciso avaliar se o trimestre esta certo com o mes de pedido\n",
    "df.info()"
   ]
  },
  {
   "cell_type": "code",
   "execution_count": 221,
   "metadata": {},
   "outputs": [
    {
     "data": {
      "text/plain": [
       "<Axes: ylabel='count'>"
      ]
     },
     "execution_count": 221,
     "metadata": {},
     "output_type": "execute_result"
    },
    {
     "data": {
      "image/png": "[encoded data removed]",
      "text/plain": [
       "<Figure size 1000x1000 with 1 Axes>"
      ]
     },
     "metadata": {},
     "output_type": "display_data"
    }
   ],
   "source": [
    "df['COUNTRY'].value_counts().plot(kind='pie',autopct='%1.1f%%', figsize=(10,10)) #fala apenas o maior numero de linhas de pedidos por paises, não quer dizer que é a maior quantidade"
   ]
  },
  {
   "cell_type": "code",
   "execution_count": 219,
   "metadata": {},
   "outputs": [
    {
     "data": {
      "image/png": "[encoded data removed]",
      "text/plain": [
       "<Figure size 800x800 with 1 Axes>"
      ]
     },
     "metadata": {},
     "output_type": "display_data"
    }
   ],
   "source": [
    "grouped_df = df.groupby('COUNTRY')['QUANTITYORDERED'].sum().reset_index()\n",
    "plp.figure(figsize=(8, 8))\n",
    "plp.pie(grouped_df['QUANTITYORDERED'], labels=grouped_df['COUNTRY'], autopct='%1.1f%%', startangle=90)\n",
    "plp.title('Distribution of Quantities Ordered per Country')\n",
    "plp.show()"
   ]
  },
  {
   "cell_type": "code",
   "execution_count": 268,
   "metadata": {},
   "outputs": [
    {
     "ename": "TypeError",
     "evalue": "'DatetimeArray' with dtype datetime64[ns] does not support reduction 'sum'",
     "output_type": "error",
     "traceback": [
      "\u001b[0;31m---------------------------------------------------------------------------\u001b[0m",
      "\u001b[0;31mTypeError\u001b[0m                                 Traceback (most recent call last)",
      "Cell \u001b[0;32mIn[268], line 1\u001b[0m\n\u001b[0;32m----> 1\u001b[0m df\u001b[38;5;241m.\u001b[39mloc[(df[\u001b[38;5;124m'\u001b[39m\u001b[38;5;124mCOUNTRY\u001b[39m\u001b[38;5;124m'\u001b[39m] \u001b[38;5;241m==\u001b[39m \u001b[38;5;124m'\u001b[39m\u001b[38;5;124mUSA\u001b[39m\u001b[38;5;124m'\u001b[39m) \u001b[38;5;241m&\u001b[39m (df[\u001b[38;5;124m'\u001b[39m\u001b[38;5;124mPRODUCTLINE\u001b[39m\u001b[38;5;124m'\u001b[39m] \u001b[38;5;241m==\u001b[39m \u001b[38;5;124m'\u001b[39m\u001b[38;5;124mMotorcycles\u001b[39m\u001b[38;5;124m'\u001b[39m)]\u001b[38;5;241m.\u001b[39msum()\n",
      "File \u001b[0;32m~/anaconda3/lib/python3.11/site-packages/pandas/core/generic.py:11512\u001b[0m, in \u001b[0;36mNDFrame._add_numeric_operations.<locals>.sum\u001b[0;34m(self, axis, skipna, numeric_only, min_count, **kwargs)\u001b[0m\n\u001b[1;32m  11493\u001b[0m \u001b[38;5;129m@doc\u001b[39m(  \u001b[38;5;66;03m# type: ignore[misc]\u001b[39;00m\n\u001b[1;32m  11494\u001b[0m     _num_doc,\n\u001b[1;32m  11495\u001b[0m     desc\u001b[38;5;241m=\u001b[39m\u001b[38;5;124m\"\u001b[39m\u001b[38;5;124mReturn the sum of the values over the requested axis.\u001b[39m\u001b[38;5;130;01m\\n\u001b[39;00m\u001b[38;5;130;01m\\n\u001b[39;00m\u001b[38;5;124m\"\u001b[39m\n\u001b[0;32m   (...)\u001b[0m\n\u001b[1;32m  11510\u001b[0m     \u001b[38;5;241m*\u001b[39m\u001b[38;5;241m*\u001b[39mkwargs,\n\u001b[1;32m  11511\u001b[0m ):\n\u001b[0;32m> 11512\u001b[0m     \u001b[38;5;28;01mreturn\u001b[39;00m NDFrame\u001b[38;5;241m.\u001b[39msum(\u001b[38;5;28mself\u001b[39m, axis, skipna, numeric_only, min_count, \u001b[38;5;241m*\u001b[39m\u001b[38;5;241m*\u001b[39mkwargs)\n",
      "File \u001b[0;32m~/anaconda3/lib/python3.11/site-packages/pandas/core/generic.py:11280\u001b[0m, in \u001b[0;36mNDFrame.sum\u001b[0;34m(self, axis, skipna, numeric_only, min_count, **kwargs)\u001b[0m\n\u001b[1;32m  11272\u001b[0m \u001b[38;5;28;01mdef\u001b[39;00m \u001b[38;5;21msum\u001b[39m(\n\u001b[1;32m  11273\u001b[0m     \u001b[38;5;28mself\u001b[39m,\n\u001b[1;32m  11274\u001b[0m     axis: Axis \u001b[38;5;241m|\u001b[39m \u001b[38;5;28;01mNone\u001b[39;00m \u001b[38;5;241m=\u001b[39m \u001b[38;5;28;01mNone\u001b[39;00m,\n\u001b[0;32m   (...)\u001b[0m\n\u001b[1;32m  11278\u001b[0m     \u001b[38;5;241m*\u001b[39m\u001b[38;5;241m*\u001b[39mkwargs,\n\u001b[1;32m  11279\u001b[0m ):\n\u001b[0;32m> 11280\u001b[0m     \u001b[38;5;28;01mreturn\u001b[39;00m \u001b[38;5;28mself\u001b[39m\u001b[38;5;241m.\u001b[39m_min_count_stat_function(\n\u001b[1;32m  11281\u001b[0m         \u001b[38;5;124m\"\u001b[39m\u001b[38;5;124msum\u001b[39m\u001b[38;5;124m\"\u001b[39m, nanops\u001b[38;5;241m.\u001b[39mnansum, axis, skipna, numeric_only, min_count, \u001b[38;5;241m*\u001b[39m\u001b[38;5;241m*\u001b[39mkwargs\n\u001b[1;32m  11282\u001b[0m     )\n",
      "File \u001b[0;32m~/anaconda3/lib/python3.11/site-packages/pandas/core/generic.py:11263\u001b[0m, in \u001b[0;36mNDFrame._min_count_stat_function\u001b[0;34m(self, name, func, axis, skipna, numeric_only, min_count, **kwargs)\u001b[0m\n\u001b[1;32m  11260\u001b[0m \u001b[38;5;28;01mif\u001b[39;00m axis \u001b[38;5;129;01mis\u001b[39;00m \u001b[38;5;28;01mNone\u001b[39;00m:\n\u001b[1;32m  11261\u001b[0m     axis \u001b[38;5;241m=\u001b[39m \u001b[38;5;28mself\u001b[39m\u001b[38;5;241m.\u001b[39m_stat_axis_number\n\u001b[0;32m> 11263\u001b[0m \u001b[38;5;28;01mreturn\u001b[39;00m \u001b[38;5;28mself\u001b[39m\u001b[38;5;241m.\u001b[39m_reduce(\n\u001b[1;32m  11264\u001b[0m     func,\n\u001b[1;32m  11265\u001b[0m     name\u001b[38;5;241m=\u001b[39mname,\n\u001b[1;32m  11266\u001b[0m     axis\u001b[38;5;241m=\u001b[39maxis,\n\u001b[1;32m  11267\u001b[0m     skipna\u001b[38;5;241m=\u001b[39mskipna,\n\u001b[1;32m  11268\u001b[0m     numeric_only\u001b[38;5;241m=\u001b[39mnumeric_only,\n\u001b[1;32m  11269\u001b[0m     min_count\u001b[38;5;241m=\u001b[39mmin_count,\n\u001b[1;32m  11270\u001b[0m )\n",
      "File \u001b[0;32m~/anaconda3/lib/python3.11/site-packages/pandas/core/frame.py:10519\u001b[0m, in \u001b[0;36mDataFrame._reduce\u001b[0;34m(self, op, name, axis, skipna, numeric_only, filter_type, **kwds)\u001b[0m\n\u001b[1;32m  10515\u001b[0m     df \u001b[38;5;241m=\u001b[39m df\u001b[38;5;241m.\u001b[39mT\n\u001b[1;32m  10517\u001b[0m \u001b[38;5;66;03m# After possibly _get_data and transposing, we are now in the\u001b[39;00m\n\u001b[1;32m  10518\u001b[0m \u001b[38;5;66;03m#  simple case where we can use BlockManager.reduce\u001b[39;00m\n\u001b[0;32m> 10519\u001b[0m res \u001b[38;5;241m=\u001b[39m df\u001b[38;5;241m.\u001b[39m_mgr\u001b[38;5;241m.\u001b[39mreduce(blk_func)\n\u001b[1;32m  10520\u001b[0m out \u001b[38;5;241m=\u001b[39m df\u001b[38;5;241m.\u001b[39m_constructor(res)\u001b[38;5;241m.\u001b[39miloc[\u001b[38;5;241m0\u001b[39m]\n\u001b[1;32m  10521\u001b[0m \u001b[38;5;28;01mif\u001b[39;00m out_dtype \u001b[38;5;129;01mis\u001b[39;00m \u001b[38;5;129;01mnot\u001b[39;00m \u001b[38;5;28;01mNone\u001b[39;00m:\n",
      "File \u001b[0;32m~/anaconda3/lib/python3.11/site-packages/pandas/core/internals/managers.py:1534\u001b[0m, in \u001b[0;36mBlockManager.reduce\u001b[0;34m(self, func)\u001b[0m\n\u001b[1;32m   1532\u001b[0m res_blocks: \u001b[38;5;28mlist\u001b[39m[Block] \u001b[38;5;241m=\u001b[39m []\n\u001b[1;32m   1533\u001b[0m \u001b[38;5;28;01mfor\u001b[39;00m blk \u001b[38;5;129;01min\u001b[39;00m \u001b[38;5;28mself\u001b[39m\u001b[38;5;241m.\u001b[39mblocks:\n\u001b[0;32m-> 1534\u001b[0m     nbs \u001b[38;5;241m=\u001b[39m blk\u001b[38;5;241m.\u001b[39mreduce(func)\n\u001b[1;32m   1535\u001b[0m     res_blocks\u001b[38;5;241m.\u001b[39mextend(nbs)\n\u001b[1;32m   1537\u001b[0m index \u001b[38;5;241m=\u001b[39m Index([\u001b[38;5;28;01mNone\u001b[39;00m])  \u001b[38;5;66;03m# placeholder\u001b[39;00m\n",
      "File \u001b[0;32m~/anaconda3/lib/python3.11/site-packages/pandas/core/internals/blocks.py:339\u001b[0m, in \u001b[0;36mBlock.reduce\u001b[0;34m(self, func)\u001b[0m\n\u001b[1;32m    333\u001b[0m \u001b[38;5;129m@final\u001b[39m\n\u001b[1;32m    334\u001b[0m \u001b[38;5;28;01mdef\u001b[39;00m \u001b[38;5;21mreduce\u001b[39m(\u001b[38;5;28mself\u001b[39m, func) \u001b[38;5;241m-\u001b[39m\u001b[38;5;241m>\u001b[39m \u001b[38;5;28mlist\u001b[39m[Block]:\n\u001b[1;32m    335\u001b[0m     \u001b[38;5;66;03m# We will apply the function and reshape the result into a single-row\u001b[39;00m\n\u001b[1;32m    336\u001b[0m     \u001b[38;5;66;03m#  Block with the same mgr_locs; squeezing will be done at a higher level\u001b[39;00m\n\u001b[1;32m    337\u001b[0m     \u001b[38;5;28;01massert\u001b[39;00m \u001b[38;5;28mself\u001b[39m\u001b[38;5;241m.\u001b[39mndim \u001b[38;5;241m==\u001b[39m \u001b[38;5;241m2\u001b[39m\n\u001b[0;32m--> 339\u001b[0m     result \u001b[38;5;241m=\u001b[39m func(\u001b[38;5;28mself\u001b[39m\u001b[38;5;241m.\u001b[39mvalues)\n\u001b[1;32m    341\u001b[0m     \u001b[38;5;28;01mif\u001b[39;00m \u001b[38;5;28mself\u001b[39m\u001b[38;5;241m.\u001b[39mvalues\u001b[38;5;241m.\u001b[39mndim \u001b[38;5;241m==\u001b[39m \u001b[38;5;241m1\u001b[39m:\n\u001b[1;32m    342\u001b[0m         \u001b[38;5;66;03m# TODO(EA2D): special case not needed with 2D EAs\u001b[39;00m\n\u001b[1;32m    343\u001b[0m         res_values \u001b[38;5;241m=\u001b[39m np\u001b[38;5;241m.\u001b[39marray([[result]])\n",
      "File \u001b[0;32m~/anaconda3/lib/python3.11/site-packages/pandas/core/frame.py:10479\u001b[0m, in \u001b[0;36mDataFrame._reduce.<locals>.blk_func\u001b[0;34m(values, axis)\u001b[0m\n\u001b[1;32m  10475\u001b[0m \u001b[38;5;28;01mif\u001b[39;00m \u001b[38;5;28misinstance\u001b[39m(values, ExtensionArray):\n\u001b[1;32m  10476\u001b[0m     \u001b[38;5;28;01mif\u001b[39;00m \u001b[38;5;129;01mnot\u001b[39;00m is_1d_only_ea_dtype(values\u001b[38;5;241m.\u001b[39mdtype) \u001b[38;5;129;01mand\u001b[39;00m \u001b[38;5;129;01mnot\u001b[39;00m \u001b[38;5;28misinstance\u001b[39m(\n\u001b[1;32m  10477\u001b[0m         \u001b[38;5;28mself\u001b[39m\u001b[38;5;241m.\u001b[39m_mgr, ArrayManager\n\u001b[1;32m  10478\u001b[0m     ):\n\u001b[0;32m> 10479\u001b[0m         \u001b[38;5;28;01mreturn\u001b[39;00m values\u001b[38;5;241m.\u001b[39m_reduce(name, axis\u001b[38;5;241m=\u001b[39m\u001b[38;5;241m1\u001b[39m, skipna\u001b[38;5;241m=\u001b[39mskipna, \u001b[38;5;241m*\u001b[39m\u001b[38;5;241m*\u001b[39mkwds)\n\u001b[1;32m  10480\u001b[0m     \u001b[38;5;28;01mreturn\u001b[39;00m values\u001b[38;5;241m.\u001b[39m_reduce(name, skipna\u001b[38;5;241m=\u001b[39mskipna, \u001b[38;5;241m*\u001b[39m\u001b[38;5;241m*\u001b[39mkwds)\n\u001b[1;32m  10481\u001b[0m \u001b[38;5;28;01melse\u001b[39;00m:\n",
      "File \u001b[0;32m~/anaconda3/lib/python3.11/site-packages/pandas/core/arrays/base.py:1440\u001b[0m, in \u001b[0;36mExtensionArray._reduce\u001b[0;34m(self, name, skipna, **kwargs)\u001b[0m\n\u001b[1;32m   1438\u001b[0m meth \u001b[38;5;241m=\u001b[39m \u001b[38;5;28mgetattr\u001b[39m(\u001b[38;5;28mself\u001b[39m, name, \u001b[38;5;28;01mNone\u001b[39;00m)\n\u001b[1;32m   1439\u001b[0m \u001b[38;5;28;01mif\u001b[39;00m meth \u001b[38;5;129;01mis\u001b[39;00m \u001b[38;5;28;01mNone\u001b[39;00m:\n\u001b[0;32m-> 1440\u001b[0m     \u001b[38;5;28;01mraise\u001b[39;00m \u001b[38;5;167;01mTypeError\u001b[39;00m(\n\u001b[1;32m   1441\u001b[0m         \u001b[38;5;124mf\u001b[39m\u001b[38;5;124m\"\u001b[39m\u001b[38;5;124m'\u001b[39m\u001b[38;5;132;01m{\u001b[39;00m\u001b[38;5;28mtype\u001b[39m(\u001b[38;5;28mself\u001b[39m)\u001b[38;5;241m.\u001b[39m\u001b[38;5;18m__name__\u001b[39m\u001b[38;5;132;01m}\u001b[39;00m\u001b[38;5;124m'\u001b[39m\u001b[38;5;124m with dtype \u001b[39m\u001b[38;5;132;01m{\u001b[39;00m\u001b[38;5;28mself\u001b[39m\u001b[38;5;241m.\u001b[39mdtype\u001b[38;5;132;01m}\u001b[39;00m\u001b[38;5;124m \u001b[39m\u001b[38;5;124m\"\u001b[39m\n\u001b[1;32m   1442\u001b[0m         \u001b[38;5;124mf\u001b[39m\u001b[38;5;124m\"\u001b[39m\u001b[38;5;124mdoes not support reduction \u001b[39m\u001b[38;5;124m'\u001b[39m\u001b[38;5;132;01m{\u001b[39;00mname\u001b[38;5;132;01m}\u001b[39;00m\u001b[38;5;124m'\u001b[39m\u001b[38;5;124m\"\u001b[39m\n\u001b[1;32m   1443\u001b[0m     )\n\u001b[1;32m   1444\u001b[0m \u001b[38;5;28;01mreturn\u001b[39;00m meth(skipna\u001b[38;5;241m=\u001b[39mskipna, \u001b[38;5;241m*\u001b[39m\u001b[38;5;241m*\u001b[39mkwargs)\n",
      "\u001b[0;31mTypeError\u001b[0m: 'DatetimeArray' with dtype datetime64[ns] does not support reduction 'sum'"
     ]
    }
   ],
   "source": [
    "df.loc[(df['COUNTRY'] == 'USA') & (df['PRODUCTLINE'] == 'Motorcycles')].sum()"
   ]
  },
  {
   "cell_type": "code",
   "execution_count": 239,
   "metadata": {},
   "outputs": [
    {
     "data": {
      "text/html": [
       "<div>\n",
       "<style scoped>\n",
       "    .dataframe tbody tr th:only-of-type {\n",
       "        vertical-align: middle;\n",
       "    }\n",
       "\n",
       "    .dataframe tbody tr th {\n",
       "        vertical-align: top;\n",
       "    }\n",
       "\n",
       "    .dataframe thead th {\n",
       "        text-align: right;\n",
       "    }\n",
       "</style>\n",
       "<table border=\"1\" class=\"dataframe\">\n",
       "  <thead>\n",
       "    <tr style=\"text-align: right;\">\n",
       "      <th></th>\n",
       "      <th>COUNTRY</th>\n",
       "      <th>QUANTITYORDERED</th>\n",
       "    </tr>\n",
       "  </thead>\n",
       "  <tbody>\n",
       "    <tr>\n",
       "      <th>0</th>\n",
       "      <td>Australia</td>\n",
       "      <td>6246</td>\n",
       "    </tr>\n",
       "    <tr>\n",
       "      <th>1</th>\n",
       "      <td>Austria</td>\n",
       "      <td>1974</td>\n",
       "    </tr>\n",
       "    <tr>\n",
       "      <th>2</th>\n",
       "      <td>Belgium</td>\n",
       "      <td>1074</td>\n",
       "    </tr>\n",
       "    <tr>\n",
       "      <th>3</th>\n",
       "      <td>Canada</td>\n",
       "      <td>2293</td>\n",
       "    </tr>\n",
       "    <tr>\n",
       "      <th>4</th>\n",
       "      <td>Denmark</td>\n",
       "      <td>2197</td>\n",
       "    </tr>\n",
       "    <tr>\n",
       "      <th>5</th>\n",
       "      <td>Finland</td>\n",
       "      <td>3192</td>\n",
       "    </tr>\n",
       "    <tr>\n",
       "      <th>6</th>\n",
       "      <td>France</td>\n",
       "      <td>11090</td>\n",
       "    </tr>\n",
       "    <tr>\n",
       "      <th>7</th>\n",
       "      <td>Germany</td>\n",
       "      <td>2148</td>\n",
       "    </tr>\n",
       "    <tr>\n",
       "      <th>8</th>\n",
       "      <td>Ireland</td>\n",
       "      <td>490</td>\n",
       "    </tr>\n",
       "    <tr>\n",
       "      <th>9</th>\n",
       "      <td>Italy</td>\n",
       "      <td>3773</td>\n",
       "    </tr>\n",
       "    <tr>\n",
       "      <th>10</th>\n",
       "      <td>Japan</td>\n",
       "      <td>1842</td>\n",
       "    </tr>\n",
       "    <tr>\n",
       "      <th>11</th>\n",
       "      <td>Norway</td>\n",
       "      <td>2842</td>\n",
       "    </tr>\n",
       "    <tr>\n",
       "      <th>12</th>\n",
       "      <td>Philippines</td>\n",
       "      <td>961</td>\n",
       "    </tr>\n",
       "    <tr>\n",
       "      <th>13</th>\n",
       "      <td>Singapore</td>\n",
       "      <td>2760</td>\n",
       "    </tr>\n",
       "    <tr>\n",
       "      <th>14</th>\n",
       "      <td>Spain</td>\n",
       "      <td>12429</td>\n",
       "    </tr>\n",
       "    <tr>\n",
       "      <th>15</th>\n",
       "      <td>Sweden</td>\n",
       "      <td>2006</td>\n",
       "    </tr>\n",
       "    <tr>\n",
       "      <th>16</th>\n",
       "      <td>Switzerland</td>\n",
       "      <td>1078</td>\n",
       "    </tr>\n",
       "    <tr>\n",
       "      <th>17</th>\n",
       "      <td>UK</td>\n",
       "      <td>5013</td>\n",
       "    </tr>\n",
       "    <tr>\n",
       "      <th>18</th>\n",
       "      <td>USA</td>\n",
       "      <td>35659</td>\n",
       "    </tr>\n",
       "  </tbody>\n",
       "</table>\n",
       "</div>"
      ],
      "text/plain": [
       "        COUNTRY  QUANTITYORDERED\n",
       "0     Australia             6246\n",
       "1       Austria             1974\n",
       "2       Belgium             1074\n",
       "3        Canada             2293\n",
       "4       Denmark             2197\n",
       "5       Finland             3192\n",
       "6        France            11090\n",
       "7       Germany             2148\n",
       "8       Ireland              490\n",
       "9         Italy             3773\n",
       "10        Japan             1842\n",
       "11       Norway             2842\n",
       "12  Philippines              961\n",
       "13    Singapore             2760\n",
       "14        Spain            12429\n",
       "15       Sweden             2006\n",
       "16  Switzerland             1078\n",
       "17           UK             5013\n",
       "18          USA            35659"
      ]
     },
     "execution_count": 239,
     "metadata": {},
     "output_type": "execute_result"
    }
   ],
   "source": [
    "grouped_df\n",
    "#grouped_df = df.groupby('COUNTRY')['QUANTITYORDERED'].sum().reset_index()"
   ]
  },
  {
   "cell_type": "code",
   "execution_count": 241,
   "metadata": {},
   "outputs": [
    {
     "data": {
      "text/plain": [
       "99067"
      ]
     },
     "execution_count": 241,
     "metadata": {},
     "output_type": "execute_result"
    }
   ],
   "source": [
    "grouped_df['QUANTITYORDERED'].sum()"
   ]
  },
  {
   "cell_type": "code",
   "execution_count": 259,
   "metadata": {},
   "outputs": [],
   "source": [
    "grouped_productcode = df.groupby('PRODUCTCODE')['COUNTRY']"
   ]
  },
  {
   "cell_type": "code",
   "execution_count": 251,
   "metadata": {},
   "outputs": [
    {
     "data": {
      "text/html": [
       "<div>\n",
       "<style scoped>\n",
       "    .dataframe tbody tr th:only-of-type {\n",
       "        vertical-align: middle;\n",
       "    }\n",
       "\n",
       "    .dataframe tbody tr th {\n",
       "        vertical-align: top;\n",
       "    }\n",
       "\n",
       "    .dataframe thead th {\n",
       "        text-align: right;\n",
       "    }\n",
       "</style>\n",
       "<table border=\"1\" class=\"dataframe\">\n",
       "  <thead>\n",
       "    <tr style=\"text-align: right;\">\n",
       "      <th></th>\n",
       "      <th>count</th>\n",
       "      <th>unique</th>\n",
       "      <th>top</th>\n",
       "      <th>freq</th>\n",
       "    </tr>\n",
       "    <tr>\n",
       "      <th>PRODUCTCODE</th>\n",
       "      <th></th>\n",
       "      <th></th>\n",
       "      <th></th>\n",
       "      <th></th>\n",
       "    </tr>\n",
       "  </thead>\n",
       "  <tbody>\n",
       "    <tr>\n",
       "      <th>S10_1678</th>\n",
       "      <td>26</td>\n",
       "      <td>8</td>\n",
       "      <td>USA</td>\n",
       "      <td>12</td>\n",
       "    </tr>\n",
       "    <tr>\n",
       "      <th>S10_1949</th>\n",
       "      <td>28</td>\n",
       "      <td>10</td>\n",
       "      <td>USA</td>\n",
       "      <td>12</td>\n",
       "    </tr>\n",
       "    <tr>\n",
       "      <th>S10_2016</th>\n",
       "      <td>26</td>\n",
       "      <td>6</td>\n",
       "      <td>USA</td>\n",
       "      <td>13</td>\n",
       "    </tr>\n",
       "    <tr>\n",
       "      <th>S10_4698</th>\n",
       "      <td>26</td>\n",
       "      <td>8</td>\n",
       "      <td>USA</td>\n",
       "      <td>14</td>\n",
       "    </tr>\n",
       "    <tr>\n",
       "      <th>S10_4757</th>\n",
       "      <td>27</td>\n",
       "      <td>11</td>\n",
       "      <td>USA</td>\n",
       "      <td>10</td>\n",
       "    </tr>\n",
       "    <tr>\n",
       "      <th>...</th>\n",
       "      <td>...</td>\n",
       "      <td>...</td>\n",
       "      <td>...</td>\n",
       "      <td>...</td>\n",
       "    </tr>\n",
       "    <tr>\n",
       "      <th>S700_3505</th>\n",
       "      <td>26</td>\n",
       "      <td>9</td>\n",
       "      <td>USA</td>\n",
       "      <td>7</td>\n",
       "    </tr>\n",
       "    <tr>\n",
       "      <th>S700_3962</th>\n",
       "      <td>26</td>\n",
       "      <td>10</td>\n",
       "      <td>USA</td>\n",
       "      <td>7</td>\n",
       "    </tr>\n",
       "    <tr>\n",
       "      <th>S700_4002</th>\n",
       "      <td>27</td>\n",
       "      <td>13</td>\n",
       "      <td>USA</td>\n",
       "      <td>8</td>\n",
       "    </tr>\n",
       "    <tr>\n",
       "      <th>S72_1253</th>\n",
       "      <td>27</td>\n",
       "      <td>12</td>\n",
       "      <td>USA</td>\n",
       "      <td>10</td>\n",
       "    </tr>\n",
       "    <tr>\n",
       "      <th>S72_3212</th>\n",
       "      <td>26</td>\n",
       "      <td>11</td>\n",
       "      <td>USA</td>\n",
       "      <td>6</td>\n",
       "    </tr>\n",
       "  </tbody>\n",
       "</table>\n",
       "<p>109 rows × 4 columns</p>\n",
       "</div>"
      ],
      "text/plain": [
       "            count unique  top freq\n",
       "PRODUCTCODE                       \n",
       "S10_1678       26      8  USA   12\n",
       "S10_1949       28     10  USA   12\n",
       "S10_2016       26      6  USA   13\n",
       "S10_4698       26      8  USA   14\n",
       "S10_4757       27     11  USA   10\n",
       "...           ...    ...  ...  ...\n",
       "S700_3505      26      9  USA    7\n",
       "S700_3962      26     10  USA    7\n",
       "S700_4002      27     13  USA    8\n",
       "S72_1253       27     12  USA   10\n",
       "S72_3212       26     11  USA    6\n",
       "\n",
       "[109 rows x 4 columns]"
      ]
     },
     "execution_count": 251,
     "metadata": {},
     "output_type": "execute_result"
    }
   ],
   "source": [
    "grouped_productcode.describe()."
   ]
  },
  {
   "cell_type": "code",
   "execution_count": 257,
   "metadata": {},
   "outputs": [
    {
     "data": {
      "text/plain": [
       "0             USA\n",
       "1          France\n",
       "2          France\n",
       "3             USA\n",
       "4             USA\n",
       "          ...    \n",
       "2797      Denmark\n",
       "2798    Singapore\n",
       "2799           UK\n",
       "2800          USA\n",
       "2801        Spain\n",
       "Name: COUNTRY, Length: 545, dtype: object"
      ]
     },
     "execution_count": 257,
     "metadata": {},
     "output_type": "execute_result"
    }
   ],
   "source": [
    "grouped_productcode.head()"
   ]
  },
  {
   "cell_type": "code",
   "execution_count": 266,
   "metadata": {},
   "outputs": [
    {
     "data": {
      "text/html": [
       "<div>\n",
       "<style scoped>\n",
       "    .dataframe tbody tr th:only-of-type {\n",
       "        vertical-align: middle;\n",
       "    }\n",
       "\n",
       "    .dataframe tbody tr th {\n",
       "        vertical-align: top;\n",
       "    }\n",
       "\n",
       "    .dataframe thead th {\n",
       "        text-align: right;\n",
       "    }\n",
       "</style>\n",
       "<table border=\"1\" class=\"dataframe\">\n",
       "  <thead>\n",
       "    <tr style=\"text-align: right;\">\n",
       "      <th></th>\n",
       "      <th>COUNTRY</th>\n",
       "      <th>QUANTITYORDERED</th>\n",
       "    </tr>\n",
       "  </thead>\n",
       "  <tbody>\n",
       "    <tr>\n",
       "      <th>0</th>\n",
       "      <td>False</td>\n",
       "      <td>63408</td>\n",
       "    </tr>\n",
       "    <tr>\n",
       "      <th>1</th>\n",
       "      <td>True</td>\n",
       "      <td>35659</td>\n",
       "    </tr>\n",
       "  </tbody>\n",
       "</table>\n",
       "</div>"
      ],
      "text/plain": [
       "   COUNTRY  QUANTITYORDERED\n",
       "0    False            63408\n",
       "1     True            35659"
      ]
     },
     "execution_count": 266,
     "metadata": {},
     "output_type": "execute_result"
    }
   ],
   "source": [
    "df_country = df.groupby((df['COUNTRY'] == 'USA'))['QUANTITYORDERED'].sum().reset_index()\n",
    "df_country"
   ]
  },
  {
   "cell_type": "code",
   "execution_count": 263,
   "metadata": {},
   "outputs": [
    {
     "data": {
      "text/plain": [
       "<Axes: xlabel='PRODUCTCODE'>"
      ]
     },
     "execution_count": 263,
     "metadata": {},
     "output_type": "execute_result"
    },
    {
     "data": {
      "image/png": "[encoded data removed]",
      "text/plain": [
       "<Figure size 640x480 with 1 Axes>"
      ]
     },
     "metadata": {},
     "output_type": "display_data"
    }
   ],
   "source": [
    "df_country.plot(kind='bar', x='PRODUCTCODE', y='QUANTITYORDERED', legend=False)"
   ]
  },
  {
   "cell_type": "code",
   "execution_count": null,
   "metadata": {},
   "outputs": [],
   "source": []
  }
 ],
 "metadata": {
  "kernelspec": {
   "display_name": "base",
   "language": "python",
   "name": "python3"
  },
  "language_info": {
   "codemirror_mode": {
    "name": "ipython",
    "version": 3
   },
   "file_extension": ".py",
   "mimetype": "text/x-python",
   "name": "python",
   "nbconvert_exporter": "python",
   "pygments_lexer": "ipython3",
   "version": "3.11.5"
  }
 },
 "nbformat": 4,
 "nbformat_minor": 2
}
